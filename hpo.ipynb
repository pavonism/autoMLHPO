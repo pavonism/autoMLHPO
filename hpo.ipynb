{
 "cells": [
  {
   "cell_type": "markdown",
   "metadata": {},
   "source": [
    "Wybrane zbiory danych: \n",
    "- spambase https://www.openml.org/search?type=data&status=active&sort=runs&qualities.NumberOfInstances=between_1000_10000&id=44 \n",
    "- phoneme https://www.openml.org/search?type=data&status=active&id=1489\n",
    "- tic-tac-toe https://www.openml.org/search?type=data&sort=runs&status=active&id=50 \n",
    "- SpeedDating https://www.openml.org/search?type=data&sort=runs&status=active&qualities.NumberOfClasses=%3D_2&id=40536"
   ]
  },
  {
   "cell_type": "markdown",
   "metadata": {},
   "source": [
    "Wybrane algorytmy:\n",
    "* GradientBoosting\n",
    "* RandomForest\n",
    "* Sieci neuronowe"
   ]
  },
  {
   "cell_type": "markdown",
   "metadata": {},
   "source": [
    "Random Search"
   ]
  },
  {
   "cell_type": "markdown",
   "metadata": {},
   "source": [
    "TODO: \n",
    "1. Sprawdzić dane\n",
    "2. Uporządkować metody w ramach jednej klasy - done\n",
    "3. Zapisywanie wyników - done\n",
    "4. Obliczanie tuningu \n",
    "5. Wykresiki i docs \n",
    "6. SMAC3 ??"
   ]
  },
  {
   "cell_type": "code",
   "execution_count": 19,
   "metadata": {},
   "outputs": [],
   "source": [
    "import numpy as np\n",
    "\n",
    "models = {\n",
    "    'sick' : {\n",
    "        'id' : 38,\n",
    "        'label_y' : 'class'\n",
    "    },\n",
    "    'speeddating' : {\n",
    "        'id' : 40536,\n",
    "        'label_y' : 'match'\n",
    "    },\n",
    "    'phoneme' : {\n",
    "        'id' : 1489,\n",
    "        'label_y' : 'class'\n",
    "    },\n",
    "    'spambase' : {\n",
    "        'id' : 44,\n",
    "        'label_y' : 'class'\n",
    "    },\n",
    "}\n",
    "\n",
    "search_spaces = {\n",
    "    'random_forest' : {\n",
    "        \"estimator__max_depth\" : np.arange(1, 100)\n",
    "    },\n",
    "    'neural_network' : {\n",
    "    },\n",
    "    'gradient_boosting' : {\n",
    "    }\n",
    "}"
   ]
  },
  {
   "cell_type": "code",
   "execution_count": 20,
   "metadata": {},
   "outputs": [],
   "source": [
    "import csv\n",
    "import openml\n",
    "import numpy as np\n",
    "from sklearn.model_selection import train_test_split\n",
    "from sklearn.preprocessing import OneHotEncoder, MinMaxScaler\n",
    "from sklearn.compose import ColumnTransformer, make_column_selector\n",
    "from sklearn.pipeline import Pipeline\n",
    "from sklearn.impute import SimpleImputer\n",
    "from sklearn.model_selection import RandomizedSearchCV\n",
    "from skopt import BayesSearchCV\n",
    "\n",
    "class HPO():\n",
    "    def __init__(self, estimator, search_space, random_state=0, test_size=0.2, n_iter=10): \n",
    "        num_pipeline = Pipeline(steps=[\n",
    "            ('impute', SimpleImputer(strategy='mean')),\n",
    "            ('scale', MinMaxScaler())\n",
    "        ])\n",
    "\n",
    "        cat_pipeline = Pipeline(steps=[\n",
    "            ('impute', SimpleImputer(strategy='most_frequent')),\n",
    "            ('one-hot', OneHotEncoder(handle_unknown='ignore', sparse=False))\n",
    "        ])\n",
    "\n",
    "        preprocessing = ColumnTransformer(transformers=[\n",
    "            ('num_pipeline',num_pipeline, make_column_selector(dtype_include=np.number)),\n",
    "            ('cat_pipeline',cat_pipeline, make_column_selector(dtype_include=np.object_))\n",
    "            ],\n",
    "            remainder='drop',\n",
    "            n_jobs=-1)\n",
    "\n",
    "        self.pipeline = Pipeline(steps=[\n",
    "            ('preprocessing', preprocessing),\n",
    "            ('estimator', estimator)\n",
    "        ])\n",
    "\n",
    "        self.n_iter = n_iter\n",
    "        self.search_space = search_space\n",
    "        self.random_state = random_state\n",
    "        self.test_size = test_size\n",
    "        self.estimator_name = estimator.__class__.__name__\n",
    "\n",
    "    def load_dataset(self, data_set):\n",
    "        dataset = openml.datasets.get_dataset(data_set['id'])\n",
    "        self.dataset_id = data_set['id']\n",
    "\n",
    "        X, _, _, _ = dataset.get_data(dataset_format=\"dataframe\")\n",
    "\n",
    "        y = X.iloc[:,-1]\n",
    "        X = X.iloc[:,:-1]\n",
    "\n",
    "        self.X_train, self.X_test, self.y_train, self.y_test = train_test_split(X, y, test_size=self.test_size)\n",
    "\n",
    "    def save_to_file(self, type, results):\n",
    "        csv_file_path = '{0}-{1}-{2}-{3}.csv'.format(type, self.dataset_id, self.estimator_name, self.random_state)\n",
    "\n",
    "        with open(csv_file_path, 'w', newline='') as csvfile:\n",
    "            fieldnames = ['Iteracja', 'Parametry', 'Średnia dokładność', 'Czas']\n",
    "            writer = csv.DictWriter(csvfile, fieldnames=fieldnames)\n",
    "\n",
    "            writer.writeheader()\n",
    "\n",
    "            for i in range(len(results['params'])):\n",
    "                writer.writerow({\n",
    "                    'Iteracja': i + 1,\n",
    "                    'Parametry': str(results['params'][i]),\n",
    "                    'Średnia dokładność': results['mean_test_score'][i],\n",
    "                    'Czas': results['mean_fit_time'][i]\n",
    "                })\n",
    "\n",
    "        print(f\"Wyniki zostały zapisane do pliku CSV: {csv_file_path}\")\n",
    "\n",
    "    def run_random_search(self):\n",
    "        rs = RandomizedSearchCV(self.pipeline, self.search_space, n_iter=self.n_iter, random_state=self.random_state)\n",
    "        rs.fit(self.X_train, self.y_train)\n",
    "        score = rs.score(self.X_test, self.y_test)\n",
    "        print(score)\n",
    "        self.save_to_file('random_search', rs.cv_results_)\n",
    "\n",
    "\n",
    "    def run_bayes_search(self):\n",
    "        bs = BayesSearchCV(self.pipeline, self.search_space, n_iter=self.n_iter, random_state=self.random_state)\n",
    "        bs.fit(self.X_train, self.y_train)\n",
    "        score = bs.score(self.X_test, self.y_test)\n",
    "        print(score)\n",
    "        self.save_to_file('bayes_search', bs.cv_results_)"
   ]
  },
  {
   "cell_type": "code",
   "execution_count": 18,
   "metadata": {},
   "outputs": [
    {
     "name": "stdout",
     "output_type": "stream",
     "text": [
      "0.9801324503311258\n",
      "Wyniki zostały zapisane do pliku CSV: random_search-38-RandomForestClassifier-0.csv\n"
     ]
    }
   ],
   "source": [
    "from sklearn.ensemble import RandomForestClassifier\n",
    "\n",
    "hpo = HPO(RandomForestClassifier(), search_spaces['random_forest'], n_iter = 12)\n",
    "hpo.load_dataset(models['sick'])\n",
    "hpo.run_random_search()"
   ]
  }
 ],
 "metadata": {
  "kernelspec": {
   "display_name": "AutoML",
   "language": "python",
   "name": "python3"
  },
  "language_info": {
   "codemirror_mode": {
    "name": "ipython",
    "version": 3
   },
   "file_extension": ".py",
   "mimetype": "text/x-python",
   "name": "python",
   "nbconvert_exporter": "python",
   "pygments_lexer": "ipython3",
   "version": "3.10.13"
  }
 },
 "nbformat": 4,
 "nbformat_minor": 2
}
