{
 "cells": [
  {
   "cell_type": "code",
   "execution_count": 8,
   "metadata": {},
   "outputs": [],
   "source": [
    "import glob\n",
    "import os\n",
    "import pandas as pd\n",
    "import seaborn as sns\n",
    "import matplotlib.pyplot as plt"
   ]
  },
  {
   "cell_type": "markdown",
   "metadata": {},
   "source": [
    "Ustawienie odpowiedniej czcionki na wykresach. Domyślnie wymagają zainstalowanego lokalnie $\\LaTeX$. Aby wyłączyć tę funkcjonalność należy ustawić parametr text.usetex na False."
   ]
  },
  {
   "cell_type": "code",
   "execution_count": 9,
   "metadata": {},
   "outputs": [],
   "source": [
    "plt.rcParams.update({\n",
    "    \"text.usetex\": True,\n",
    "    \"font.family\": \"serif\",\n",
    "    \"font.size\": 12,\n",
    "})"
   ]
  },
  {
   "cell_type": "markdown",
   "metadata": {},
   "source": [
    "Wczytanie wyników optymalizacji"
   ]
  },
  {
   "cell_type": "code",
   "execution_count": 10,
   "metadata": {},
   "outputs": [],
   "source": [
    "data_set_names = {\n",
    "    '720' : 'abalone',\n",
    "    '1037' : 'ada_prior',\n",
    "    '1489' : 'phoneme',\n",
    "    '44' : 'spambase'\n",
    "}\n",
    "\n",
    "data_folder = 'data'\n",
    "data = {}\n",
    "\n",
    "file_pattern = f'*-*-*-0.csv'\n",
    "file_paths = glob.glob(os.path.join(data_folder, file_pattern))\n",
    "for file_path in file_paths:\n",
    "    filename = os.path.basename(file_path)\n",
    "    method, id, algorithm, _ = filename.split('-')\n",
    "    df = pd.read_csv(file_path, sep=';')\n",
    "    df = df.iloc[:, :-1]\n",
    "\n",
    "    df.name = data_set_names[id]\n",
    "\n",
    "    if(data.get(algorithm) is None):\n",
    "        data[algorithm] = {}\n",
    "\n",
    "    if(data[algorithm].get(method) is None):\n",
    "        data[algorithm][method] = []\n",
    "\n",
    "    data[algorithm][method].append(df)"
   ]
  },
  {
   "cell_type": "markdown",
   "metadata": {},
   "source": [
    "Obliczenie średnio najlepszego zestawu hiperparametrów per algorytm oraz zapisanie jego indeksu"
   ]
  },
  {
   "cell_type": "code",
   "execution_count": 11,
   "metadata": {},
   "outputs": [],
   "source": [
    "best_configuration_index_per_algorithm = {}\n",
    "\n",
    "for algorithm in data.keys():\n",
    "    data_sets = data[algorithm]['random_search']\n",
    "    scores = data_sets[0].iloc[:, -1]\n",
    "\n",
    "    for i in range(1, len(data_sets)):\n",
    "        other_data_set = data_sets[i]\n",
    "        last_column = other_data_set.iloc[:, -1]\n",
    "        scores = pd.concat([scores, last_column], axis=1)\n",
    "\n",
    "    last_columns = scores.iloc[:, -len(data_sets):]\n",
    "    \n",
    "    max_avg_index = last_columns.mean(axis=1).idxmax()\n",
    "    best_configuration = scores.loc[max_avg_index]\n",
    "    best_configuration_index_per_algorithm[algorithm] = max_avg_index"
   ]
  },
  {
   "cell_type": "markdown",
   "metadata": {},
   "source": [
    "Obliczenie tunowalności per iteracja dla Random Search"
   ]
  },
  {
   "cell_type": "code",
   "execution_count": 12,
   "metadata": {},
   "outputs": [],
   "source": [
    "for algorithm in data.keys():\n",
    "    data_sets = data[algorithm]['random_search']\n",
    "    \n",
    "    for i in range(len(data_sets)):\n",
    "        diff = data_sets[i]['Srednia dokladnosc'][best_configuration_index_per_algorithm[algorithm]] - data_sets[i]['Srednia dokladnosc']\n",
    "        data_sets[i]['Differents'] = diff"
   ]
  },
  {
   "cell_type": "markdown",
   "metadata": {},
   "source": [
    "Obliczenie tunowalności per iteracja dla optymalizacji bayesowskiej"
   ]
  },
  {
   "cell_type": "code",
   "execution_count": 13,
   "metadata": {},
   "outputs": [],
   "source": [
    "for algorithm in data.keys():\n",
    "    data_sets = data[algorithm]['bayes_search']\n",
    "    rs_data_sets = data[algorithm]['random_search']\n",
    "    \n",
    "    for i in range(len(data_sets)):\n",
    "        diff = rs_data_sets[i]['Srednia dokladnosc'][best_configuration_index_per_algorithm[algorithm]] - data_sets[i]['Srednia dokladnosc']\n",
    "        data_sets[i]['Differents'] = diff"
   ]
  },
  {
   "cell_type": "markdown",
   "metadata": {},
   "source": [
    "Wykreślenie boxplotów tunowalności"
   ]
  },
  {
   "cell_type": "code",
   "execution_count": 14,
   "metadata": {},
   "outputs": [],
   "source": [
    "fig, axes = plt.subplots(3, 2, figsize=(12, 13.5))\n",
    "plt.ioff()\n",
    "\n",
    "p = 0\n",
    "\n",
    "for algorithm in data.keys():\n",
    "    data_sets = data[algorithm]['random_search']\n",
    "    \n",
    "    diffs_to_plot = []\n",
    "    labels = []\n",
    "\n",
    "    for i in range(len(data_sets)):\n",
    "        diffs_to_plot.append(data_sets[i]['Differents'])\n",
    "        labels.append(data_sets[i].name)\n",
    "\n",
    "    axes[p, 0].boxplot(diffs_to_plot, labels=labels)\n",
    "    axes[p, 0].set_title(f'Random Search for {algorithm}', pad=10)\n",
    "\n",
    "    p = p + 1\n",
    "\n",
    "p = 0\n",
    "\n",
    "for algorithm in data.keys():\n",
    "    data_sets = data[algorithm]['bayes_search']\n",
    "    \n",
    "    diffs_to_plot = []\n",
    "    labels = []\n",
    "\n",
    "    for i in range(len(data_sets)):\n",
    "        diffs_to_plot.append(data_sets[i]['Differents'])\n",
    "        labels.append(data_sets[i].name)\n",
    "    \n",
    "    axes[p, 1].boxplot(diffs_to_plot, labels=labels)\n",
    "    axes[p, 1].set_title(f'Bayes Search for {algorithm}', pad=10)\n",
    "\n",
    "    p = p + 1\n",
    "\n",
    "plt.subplots_adjust(hspace=0.3, wspace=0.3)\n",
    "plt.savefig(f'box-plots.svg', bbox_inches='tight', pad_inches=0.2)\n",
    "plt.close()"
   ]
  },
  {
   "cell_type": "markdown",
   "metadata": {},
   "source": [
    "Obliczenie tunowalności dla Random Search"
   ]
  },
  {
   "cell_type": "code",
   "execution_count": 15,
   "metadata": {},
   "outputs": [],
   "source": [
    "tunability = pd.DataFrame()\n",
    "\n",
    "for algorithm in data.keys():\n",
    "    tunability[algorithm] = {}\n",
    "    data_sets = data[algorithm]['random_search']\n",
    "\n",
    "    diffs = []\n",
    "\n",
    "    for data_set in data_sets:\n",
    "        best_value = data_set['Srednia dokladnosc'].max()\n",
    "        diff = data_set['Srednia dokladnosc'][best_configuration_index_per_algorithm[algorithm]] - best_value\n",
    "        diffs.append(diff)\n",
    "    \n",
    "    tunability[algorithm] = diffs\n",
    "\n",
    "y_labels = [dataset.name for dataset in data_sets]\n",
    "\n",
    "plt.figure(figsize=(12, 6))\n",
    "heatmap = sns.heatmap(tunability, yticklabels=y_labels, annot=True, cmap=\"RdYlGn_r\", linewidths=1, center=0, vmax=-tunability.min().min(), annot_kws={'size': 16}, cbar_kws={\"shrink\": 0.8})\n",
    "\n",
    "\n",
    "heatmap.yaxis.set_tick_params(pad=5)\n",
    "heatmap.xaxis.set_tick_params(pad=5)\n",
    "\n",
    "plt.title('Tunability for Different Classifiers', pad=15)\n",
    "plt.savefig('rs_heatmap.svg', bbox_inches='tight', pad_inches=0.2)"
   ]
  },
  {
   "cell_type": "markdown",
   "metadata": {},
   "source": [
    "Obliczenie tunowalności dla optymalizacji bayesowskiej"
   ]
  },
  {
   "cell_type": "code",
   "execution_count": 16,
   "metadata": {},
   "outputs": [],
   "source": [
    "tunability = pd.DataFrame()\n",
    "\n",
    "for algorithm in data.keys():\n",
    "    tunability[algorithm] = {}\n",
    "    data_sets = data[algorithm]['bayes_search']\n",
    "    rs_data_sets = data[algorithm]['random_search']\n",
    "\n",
    "    diffs = []\n",
    "\n",
    "    for i in range(len(data_sets)):\n",
    "        data_set = data_sets[i]\n",
    "        best_value = data_set['Srednia dokladnosc'].max()\n",
    "        diff = rs_data_sets[i]['Srednia dokladnosc'][best_configuration_index_per_algorithm[algorithm]] - best_value\n",
    "        diffs.append(diff)\n",
    "    \n",
    "    tunability[algorithm] = diffs\n",
    "\n",
    "y_labels = [dataset.name for dataset in data_sets]\n",
    "\n",
    "plt.figure(figsize=(12, 6))\n",
    "heatmap = sns.heatmap(tunability, yticklabels=y_labels, annot=True, cmap=\"RdYlGn_r\", linewidths=1, center=0, vmax=-tunability.min().min(), annot_kws={'size': 16}, cbar_kws={\"shrink\": 0.8})\n",
    "\n",
    "heatmap.yaxis.set_tick_params(pad=5)\n",
    "heatmap.xaxis.set_tick_params(pad=5)\n",
    "\n",
    "plt.title('Tunability for Different Classifiers', pad=15)\n",
    "plt.savefig('bs_heatmap.svg', bbox_inches='tight', pad_inches=0.2)"
   ]
  },
  {
   "cell_type": "markdown",
   "metadata": {},
   "source": [
    "Narysowanie wykresu zbieżności dla poszczególnych algorytmów i zbiorów danych w optymalizacji bayesowskiej"
   ]
  },
  {
   "cell_type": "code",
   "execution_count": 17,
   "metadata": {},
   "outputs": [],
   "source": [
    "labels = [data for data in data.keys()]\n",
    "\n",
    "fig, axes = plt.subplots(2, 2, figsize=(12, 9))\n",
    "\n",
    "for i in range(len(data_sets)):\n",
    "\n",
    "    handles = []\n",
    "\n",
    "    for algorithm in data.keys():\n",
    "        data_sets = data[algorithm]['bayes_search']\n",
    "        current_data_set = data_sets[i]\n",
    "\n",
    "        current_best = 0\n",
    "        current_index = 0\n",
    "        y = []\n",
    "        x = []\n",
    "\n",
    "        for value in current_data_set['Srednia dokladnosc']:\n",
    "            current_index += 1\n",
    "            if(value >= current_best):\n",
    "                y.append(value)\n",
    "                x.append(current_index)\n",
    "\n",
    "            if(value > current_best):\n",
    "                current_best = value\n",
    "\n",
    "        handle, = axes[i//2, i%2].plot(x, y)\n",
    "        axes[i//2, i%2].scatter(x, y, s=15)\n",
    "        handles.append(handle)\n",
    "        axes[i//2, i%2].set_title(f'{data_sets[i].name}', pad=10)\n",
    "    \n",
    "    axes[i//2, i%2].legend(handles=handles, labels=labels)\n",
    "\n",
    "plt.subplots_adjust(hspace=0.3, wspace=0.3)\n",
    "plt.savefig(f'bs-convergence.svg', bbox_inches='tight', pad_inches=0.2)\n",
    "plt.close()"
   ]
  },
  {
   "cell_type": "markdown",
   "metadata": {},
   "source": [
    "Wykreślenie wykresu wyników dla poszczególnych iteracji dla Random Search"
   ]
  },
  {
   "cell_type": "code",
   "execution_count": 18,
   "metadata": {},
   "outputs": [],
   "source": [
    "labels = [data for data in data.keys()]\n",
    "\n",
    "for i in range(len(data_sets)):\n",
    "    if i%2 == 0:\n",
    "        fig, axes = plt.subplots(3, 2, figsize=(12, 13.5))\n",
    "\n",
    "    for j, algorithm in enumerate(data.keys()):\n",
    "        data_sets = data[algorithm]['random_search']\n",
    "        current_data_set = data_sets[i]\n",
    "\n",
    "        current_best = 0\n",
    "        current_index = 0\n",
    "\n",
    "        x = current_data_set['Iteracja']\n",
    "        y = current_data_set['Srednia dokladnosc']\n",
    "\n",
    "        axes[j, i%2].axvline(x[best_configuration_index_per_algorithm[algorithm]], color='blue', linestyle='-')\n",
    "        axes[j, i%2].axvline(x[y.idxmax()], color='red', linestyle='--')\n",
    "        axes[j, i%2].scatter(x, y, s=5)\n",
    "        axes[j, i%2].set_title(f'{current_data_set.name} with {algorithm}', pad=10)\n",
    "\n",
    "    if (i+1)%2 == 0:\n",
    "        plt.subplots_adjust(hspace=0.3, wspace=0.3)\n",
    "        plt.savefig(f'rs-convergence-{data_sets[i-1].name}-{data_sets[i].name}.svg', bbox_inches='tight', pad_inches=0.2)\n",
    "        plt.close()\n"
   ]
  }
 ],
 "metadata": {
  "kernelspec": {
   "display_name": "AutoML",
   "language": "python",
   "name": "python3"
  },
  "language_info": {
   "codemirror_mode": {
    "name": "ipython",
    "version": 3
   },
   "file_extension": ".py",
   "mimetype": "text/x-python",
   "name": "python",
   "nbconvert_exporter": "python",
   "pygments_lexer": "ipython3",
   "version": "3.10.13"
  }
 },
 "nbformat": 4,
 "nbformat_minor": 2
}
